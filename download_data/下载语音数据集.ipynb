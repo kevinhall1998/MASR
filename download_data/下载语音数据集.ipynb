{
 "cells": [
  {
   "cell_type": "markdown",
   "id": "cd51bc88-a267-43aa-9fd2-b59e6327f9fe",
   "metadata": {},
   "source": [
    "下载语音数据集,modelscope下载这个需要五分钟左右"
   ]
  },
  {
   "cell_type": "code",
   "execution_count": null,
   "id": "0665d183-869d-4b71-a191-45b8647101e9",
   "metadata": {
    "tags": []
   },
   "outputs": [],
   "source": [
    "!git clone https://www.modelscope.cn/kevinhall3765/ASR.git"
   ]
  },
  {
   "cell_type": "markdown",
   "id": "11bc23df-6629-420a-93a0-dc3043bd8af6",
   "metadata": {},
   "source": [
    "执行删除和替换操作,使用夜雨飘零原版需要操作，使用kevinhall3765的fork版本不必要，但是也可以执行。"
   ]
  },
  {
   "cell_type": "code",
   "execution_count": 2,
   "id": "47907e40-64e4-4b4c-9b39-4b5df87bd205",
   "metadata": {
    "execution": {
     "iopub.execute_input": "2024-03-05T07:31:55.821070Z",
     "iopub.status.busy": "2024-03-05T07:31:55.820676Z",
     "iopub.status.idle": "2024-03-05T07:31:56.880130Z",
     "shell.execute_reply": "2024-03-05T07:31:56.879134Z",
     "shell.execute_reply.started": "2024-03-05T07:31:55.821047Z"
    },
    "tags": []
   },
   "outputs": [],
   "source": [
    "!rm noise.py\n",
    "!rm aishell.py\n",
    "!rm thchs_30.py"
   ]
  },
  {
   "cell_type": "code",
   "execution_count": null,
   "id": "542c3cee-2bdc-4e7b-ad8d-1ae01a5094ff",
   "metadata": {},
   "outputs": [],
   "source": [
    "!cp ASR/noise.py .\n",
    "!cp ASR/aishell.py .\n",
    "!cp ASR/thchs_30.py ."
   ]
  },
  {
   "cell_type": "markdown",
   "id": "2992f696-d14d-47f7-a5aa-329871deb7d8",
   "metadata": {},
   "source": [
    "执行语音数据包的解压，大概需要10分钟"
   ]
  },
  {
   "cell_type": "code",
   "execution_count": null,
   "id": "ecc0cb0f-3dc3-4312-9a35-e31f4daaaaa4",
   "metadata": {
    "tags": []
   },
   "outputs": [],
   "source": [
    "!python noise.py\n",
    "!python aishell.py\n",
    "!python thchs_30.py"
   ]
  }
 ],
 "metadata": {
  "kernelspec": {
   "display_name": "Python 3 (ipykernel)",
   "language": "python",
   "name": "python3"
  },
  "language_info": {
   "codemirror_mode": {
    "name": "ipython",
    "version": 3
   },
   "file_extension": ".py",
   "mimetype": "text/x-python",
   "name": "python",
   "nbconvert_exporter": "python",
   "pygments_lexer": "ipython3",
   "version": "3.10.0"
  }
 },
 "nbformat": 4,
 "nbformat_minor": 5
}
