{
 "cells": [
  {
   "cell_type": "code",
   "execution_count": null,
   "id": "62df0a5b-a1e7-4b27-9362-815e9986c4d0",
   "metadata": {},
   "outputs": [],
   "source": [
    "创建数据残差表"
   ]
  },
  {
   "cell_type": "code",
   "execution_count": null,
   "id": "c7504bfc-7e5a-4069-b41e-e618d143d47a",
   "metadata": {
    "tags": []
   },
   "outputs": [],
   "source": [
    "!python create_data.py"
   ]
  },
  {
   "cell_type": "markdown",
   "id": "78143416-a46c-45d3-9ccf-f7a760e7c53a",
   "metadata": {},
   "source": [
    "进行训练"
   ]
  },
  {
   "cell_type": "code",
   "execution_count": null,
   "id": "c36b54ff-26c2-4f62-8669-3b60f1318c78",
   "metadata": {},
   "outputs": [],
   "source": [
    "!python train.py"
   ]
  },
  {
   "cell_type": "code",
   "execution_count": null,
   "id": "cd1e285e-bd1c-4670-ab3d-6cf7e28f1aab",
   "metadata": {},
   "outputs": [],
   "source": [
    "进行推理预测"
   ]
  },
  {
   "cell_type": "code",
   "execution_count": null,
   "id": "6491b43d-d971-40fb-b86d-8d9e81c5b6fb",
   "metadata": {},
   "outputs": [],
   "source": [
    "!python infer.py"
   ]
  }
 ],
 "metadata": {
  "kernelspec": {
   "display_name": "Python 3 (ipykernel)",
   "language": "python",
   "name": "python3"
  },
  "language_info": {
   "codemirror_mode": {
    "name": "ipython",
    "version": 3
   },
   "file_extension": ".py",
   "mimetype": "text/x-python",
   "name": "python",
   "nbconvert_exporter": "python",
   "pygments_lexer": "ipython3",
   "version": "3.10.0"
  }
 },
 "nbformat": 4,
 "nbformat_minor": 5
}
