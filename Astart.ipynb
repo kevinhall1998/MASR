{
 "cells": [
  {
   "cell_type": "code",
   "execution_count": null,
   "id": "c7504bfc-7e5a-4069-b41e-e618d143d47a",
   "metadata": {
    "tags": []
   },
   "outputs": [],
   "source": [
    "!python train.py"
   ]
  }
 ],
 "metadata": {
  "kernelspec": {
   "display_name": "Python 3 (ipykernel)",
   "language": "python",
   "name": "python3"
  },
  "language_info": {
   "codemirror_mode": {
    "name": "ipython",
    "version": 3
   },
   "file_extension": ".py",
   "mimetype": "text/x-python",
   "name": "python",
   "nbconvert_exporter": "python",
   "pygments_lexer": "ipython3",
   "version": "3.10.13"
  }
 },
 "nbformat": 4,
 "nbformat_minor": 5
}
